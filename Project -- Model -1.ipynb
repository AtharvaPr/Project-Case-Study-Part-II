{
 "cells": [
  {
   "cell_type": "code",
   "execution_count": 1,
   "id": "68a930ba",
   "metadata": {},
   "outputs": [],
   "source": [
    "import csv\n",
    "import numpy as np\n",
    "import pandas as pd\n",
    "\n",
    "df = pd.read_csv(\"Desktop/Datasets/startup_funding.csv\",encoding = 'utf-8')"
   ]
  },
  {
   "cell_type": "code",
   "execution_count": 2,
   "id": "749f6601",
   "metadata": {},
   "outputs": [],
   "source": [
    "df['City  Location'].dropna(inplace = True)"
   ]
  },
  {
   "cell_type": "code",
   "execution_count": 3,
   "id": "1c5aa288",
   "metadata": {},
   "outputs": [
    {
     "data": {
      "text/plain": [
       "0       Bengaluru\n",
       "1         Gurgaon\n",
       "2       Bengaluru\n",
       "3       New Delhi\n",
       "4          Mumbai\n",
       "          ...    \n",
       "3039          NaN\n",
       "3040          NaN\n",
       "3041          NaN\n",
       "3042          NaN\n",
       "3043          NaN\n",
       "Name: City  Location, Length: 3044, dtype: object"
      ]
     },
     "execution_count": 3,
     "metadata": {},
     "output_type": "execute_result"
    }
   ],
   "source": [
    "df['City  Location'].replace('Delhi', 'New Delhi')\n",
    "df['City  Location'].replace('bangalore', 'Bangalore')\n"
   ]
  },
  {
   "cell_type": "code",
   "execution_count": 19,
   "id": "95d92a7d",
   "metadata": {
    "scrolled": true
   },
   "outputs": [
    {
     "ename": "ValueError",
     "evalue": "could not convert string to float: 'undisclosed'",
     "output_type": "error",
     "traceback": [
      "\u001b[0;31m---------------------------------------------------------------------------\u001b[0m",
      "\u001b[0;31mValueError\u001b[0m                                Traceback (most recent call last)",
      "\u001b[0;32m/var/folders/lv/1ny14vh171v1q3g8t9s_bcnr0000gn/T/ipykernel_21638/472288972.py\u001b[0m in \u001b[0;36m<module>\u001b[0;34m\u001b[0m\n\u001b[1;32m      6\u001b[0m \u001b[0mdf\u001b[0m\u001b[0;34m[\u001b[0m\u001b[0;34m'Amount in USD'\u001b[0m \u001b[0;34m==\u001b[0m \u001b[0;34m\"undisclosed\"\u001b[0m\u001b[0;34m]\u001b[0m \u001b[0;34m=\u001b[0m \u001b[0;34m\"0\"\u001b[0m\u001b[0;34m\u001b[0m\u001b[0;34m\u001b[0m\u001b[0m\n\u001b[1;32m      7\u001b[0m \u001b[0;34m\u001b[0m\u001b[0m\n\u001b[0;32m----> 8\u001b[0;31m \u001b[0mdf\u001b[0m\u001b[0;34m[\u001b[0m\u001b[0;34m'Amount in USD'\u001b[0m\u001b[0;34m]\u001b[0m \u001b[0;34m=\u001b[0m \u001b[0mdf\u001b[0m\u001b[0;34m[\u001b[0m\u001b[0;34m'Amount in USD'\u001b[0m\u001b[0;34m]\u001b[0m\u001b[0;34m.\u001b[0m\u001b[0mapply\u001b[0m\u001b[0;34m(\u001b[0m\u001b[0;32mlambda\u001b[0m \u001b[0mx\u001b[0m\u001b[0;34m:\u001b[0m \u001b[0mfloat\u001b[0m\u001b[0;34m(\u001b[0m\u001b[0mstr\u001b[0m\u001b[0;34m(\u001b[0m\u001b[0mx\u001b[0m\u001b[0;34m)\u001b[0m\u001b[0;34m.\u001b[0m\u001b[0mreplace\u001b[0m\u001b[0;34m(\u001b[0m\u001b[0;34m\",\"\u001b[0m\u001b[0;34m,\u001b[0m\u001b[0;34m\"\"\u001b[0m\u001b[0;34m)\u001b[0m\u001b[0;34m)\u001b[0m\u001b[0;34m)\u001b[0m\u001b[0;34m\u001b[0m\u001b[0;34m\u001b[0m\u001b[0m\n\u001b[0m",
      "\u001b[0;32m/opt/anaconda3/lib/python3.8/site-packages/pandas/core/series.py\u001b[0m in \u001b[0;36mapply\u001b[0;34m(self, func, convert_dtype, args, **kwargs)\u001b[0m\n\u001b[1;32m   4355\u001b[0m         \u001b[0mdtype\u001b[0m\u001b[0;34m:\u001b[0m \u001b[0mfloat64\u001b[0m\u001b[0;34m\u001b[0m\u001b[0;34m\u001b[0m\u001b[0m\n\u001b[1;32m   4356\u001b[0m         \"\"\"\n\u001b[0;32m-> 4357\u001b[0;31m         \u001b[0;32mreturn\u001b[0m \u001b[0mSeriesApply\u001b[0m\u001b[0;34m(\u001b[0m\u001b[0mself\u001b[0m\u001b[0;34m,\u001b[0m \u001b[0mfunc\u001b[0m\u001b[0;34m,\u001b[0m \u001b[0mconvert_dtype\u001b[0m\u001b[0;34m,\u001b[0m \u001b[0margs\u001b[0m\u001b[0;34m,\u001b[0m \u001b[0mkwargs\u001b[0m\u001b[0;34m)\u001b[0m\u001b[0;34m.\u001b[0m\u001b[0mapply\u001b[0m\u001b[0;34m(\u001b[0m\u001b[0;34m)\u001b[0m\u001b[0;34m\u001b[0m\u001b[0;34m\u001b[0m\u001b[0m\n\u001b[0m\u001b[1;32m   4358\u001b[0m \u001b[0;34m\u001b[0m\u001b[0m\n\u001b[1;32m   4359\u001b[0m     def _reduce(\n",
      "\u001b[0;32m/opt/anaconda3/lib/python3.8/site-packages/pandas/core/apply.py\u001b[0m in \u001b[0;36mapply\u001b[0;34m(self)\u001b[0m\n\u001b[1;32m   1041\u001b[0m             \u001b[0;32mreturn\u001b[0m \u001b[0mself\u001b[0m\u001b[0;34m.\u001b[0m\u001b[0mapply_str\u001b[0m\u001b[0;34m(\u001b[0m\u001b[0;34m)\u001b[0m\u001b[0;34m\u001b[0m\u001b[0;34m\u001b[0m\u001b[0m\n\u001b[1;32m   1042\u001b[0m \u001b[0;34m\u001b[0m\u001b[0m\n\u001b[0;32m-> 1043\u001b[0;31m         \u001b[0;32mreturn\u001b[0m \u001b[0mself\u001b[0m\u001b[0;34m.\u001b[0m\u001b[0mapply_standard\u001b[0m\u001b[0;34m(\u001b[0m\u001b[0;34m)\u001b[0m\u001b[0;34m\u001b[0m\u001b[0;34m\u001b[0m\u001b[0m\n\u001b[0m\u001b[1;32m   1044\u001b[0m \u001b[0;34m\u001b[0m\u001b[0m\n\u001b[1;32m   1045\u001b[0m     \u001b[0;32mdef\u001b[0m \u001b[0magg\u001b[0m\u001b[0;34m(\u001b[0m\u001b[0mself\u001b[0m\u001b[0;34m)\u001b[0m\u001b[0;34m:\u001b[0m\u001b[0;34m\u001b[0m\u001b[0;34m\u001b[0m\u001b[0m\n",
      "\u001b[0;32m/opt/anaconda3/lib/python3.8/site-packages/pandas/core/apply.py\u001b[0m in \u001b[0;36mapply_standard\u001b[0;34m(self)\u001b[0m\n\u001b[1;32m   1096\u001b[0m                 \u001b[0;31m# List[Union[Callable[..., Any], str]]]]]\"; expected\u001b[0m\u001b[0;34m\u001b[0m\u001b[0;34m\u001b[0m\u001b[0;34m\u001b[0m\u001b[0m\n\u001b[1;32m   1097\u001b[0m                 \u001b[0;31m# \"Callable[[Any], Any]\"\u001b[0m\u001b[0;34m\u001b[0m\u001b[0;34m\u001b[0m\u001b[0;34m\u001b[0m\u001b[0m\n\u001b[0;32m-> 1098\u001b[0;31m                 mapped = lib.map_infer(\n\u001b[0m\u001b[1;32m   1099\u001b[0m                     \u001b[0mvalues\u001b[0m\u001b[0;34m,\u001b[0m\u001b[0;34m\u001b[0m\u001b[0;34m\u001b[0m\u001b[0m\n\u001b[1;32m   1100\u001b[0m                     \u001b[0mf\u001b[0m\u001b[0;34m,\u001b[0m  \u001b[0;31m# type: ignore[arg-type]\u001b[0m\u001b[0;34m\u001b[0m\u001b[0;34m\u001b[0m\u001b[0m\n",
      "\u001b[0;32m/opt/anaconda3/lib/python3.8/site-packages/pandas/_libs/lib.pyx\u001b[0m in \u001b[0;36mpandas._libs.lib.map_infer\u001b[0;34m()\u001b[0m\n",
      "\u001b[0;32m/var/folders/lv/1ny14vh171v1q3g8t9s_bcnr0000gn/T/ipykernel_21638/472288972.py\u001b[0m in \u001b[0;36m<lambda>\u001b[0;34m(x)\u001b[0m\n\u001b[1;32m      6\u001b[0m \u001b[0mdf\u001b[0m\u001b[0;34m[\u001b[0m\u001b[0;34m'Amount in USD'\u001b[0m \u001b[0;34m==\u001b[0m \u001b[0;34m\"undisclosed\"\u001b[0m\u001b[0;34m]\u001b[0m \u001b[0;34m=\u001b[0m \u001b[0;34m\"0\"\u001b[0m\u001b[0;34m\u001b[0m\u001b[0;34m\u001b[0m\u001b[0m\n\u001b[1;32m      7\u001b[0m \u001b[0;34m\u001b[0m\u001b[0m\n\u001b[0;32m----> 8\u001b[0;31m \u001b[0mdf\u001b[0m\u001b[0;34m[\u001b[0m\u001b[0;34m'Amount in USD'\u001b[0m\u001b[0;34m]\u001b[0m \u001b[0;34m=\u001b[0m \u001b[0mdf\u001b[0m\u001b[0;34m[\u001b[0m\u001b[0;34m'Amount in USD'\u001b[0m\u001b[0;34m]\u001b[0m\u001b[0;34m.\u001b[0m\u001b[0mapply\u001b[0m\u001b[0;34m(\u001b[0m\u001b[0;32mlambda\u001b[0m \u001b[0mx\u001b[0m\u001b[0;34m:\u001b[0m \u001b[0mfloat\u001b[0m\u001b[0;34m(\u001b[0m\u001b[0mstr\u001b[0m\u001b[0;34m(\u001b[0m\u001b[0mx\u001b[0m\u001b[0;34m)\u001b[0m\u001b[0;34m.\u001b[0m\u001b[0mreplace\u001b[0m\u001b[0;34m(\u001b[0m\u001b[0;34m\",\"\u001b[0m\u001b[0;34m,\u001b[0m\u001b[0;34m\"\"\u001b[0m\u001b[0;34m)\u001b[0m\u001b[0;34m)\u001b[0m\u001b[0;34m)\u001b[0m\u001b[0;34m\u001b[0m\u001b[0;34m\u001b[0m\u001b[0m\n\u001b[0m",
      "\u001b[0;31mValueError\u001b[0m: could not convert string to float: 'undisclosed'"
     ]
    }
   ],
   "source": [
    "def separateCity(city):\n",
    "    return city.split('/')[0].strip()\n",
    "\n",
    "df['City  Location'] = df['City  Location'].apply(separateCity)\n",
    "\n",
    "df['Amount in USD' == \"undisclosed\"] = \"0\"\n",
    "\n",
    "df['Amount in USD'] = df['Amount in USD'].apply(lambda x: float(str(x).replace(\",\",\"\")))\n",
    "\n"
   ]
  },
  {
   "cell_type": "code",
   "execution_count": 7,
   "id": "ca4a554f",
   "metadata": {},
   "outputs": [],
   "source": [
    "\n",
    "df.dropna(subset=[\"City  Location\"],inplace=True)\n",
    "def separateCity(city):\n",
    "    return city.split('/')[0].strip()\n",
    "df['City  Location'] = df['City  Location'].apply(separateCity)\n",
    "df['City  Location'].replace(\"Delhi\",\"New Delhi\",inplace = True)\n",
    "df['City  Location'].replace(\"bangalore\",\"Bangalore\",inplace = True)"
   ]
  },
  {
   "cell_type": "markdown",
   "id": "ef9ea860",
   "metadata": {},
   "source": [
    "# Question 1"
   ]
  },
  {
   "cell_type": "code",
   "execution_count": 14,
   "id": "c39aecea",
   "metadata": {
    "scrolled": false
   },
   "outputs": [
    {
     "data": {
      "image/png": "[encoded data removed]",
      "text/plain": [
       "<Figure size 432x288 with 1 Axes>"
      ]
     },
     "metadata": {
      "needs_background": "light"
     },
     "output_type": "display_data"
    },
    {
     "name": "stdout",
     "output_type": "stream",
     "text": [
      "Bangalore 707\n",
      "Mumbai 572\n",
      "NCR 552\n"
     ]
    }
   ],
   "source": [
    "import pandas as pd\n",
    "import numpy as np\n",
    "import matplotlib.pyplot as plt\n",
    "\n",
    "\n",
    "df = pd.read_csv(\"Desktop/Datasets/startup_funding.csv\",encoding = 'utf-8')\n",
    "df.dropna(subset=[\"City  Location\"],inplace=True)\n",
    "\n",
    "def separateCity(city):\n",
    "    return city.split('/')[0].strip()\n",
    "\n",
    "df['City  Location'] = df['City  Location'].apply(separateCity)\n",
    "df['City  Location'].replace(\"Delhi\",\"New Delhi\",inplace = True)\n",
    "df['City  Location'].replace(\"bangalore\",\"Bangalore\",inplace = True)\n",
    "df['City  Location'].replace(\"New Delhi\", \"NCR\", inplace = True)\n",
    "df['City  Location'].replace(\"Noida\",\"NCR\", inplace = True)\n",
    "df['City  Location'].replace(\"Gurgao\",\"NCR\", inplace = True)\n",
    "\n",
    "City_fundings = df['City  Location'].value_counts()[:3]\n",
    "cities = City_fundings.index\n",
    "fundings = City_fundings.values\n",
    "\n",
    "colors = ['red','blue','green']\n",
    "\n",
    "plt.bar(cities, fundings, color = colors, width = 0.4)\n",
    "plt.xlabel('Cities')\n",
    "plt.ylabel('Number of fundings')\n",
    "\n",
    "plt.title('Locations for startup')\n",
    "\n",
    "plt.show()\n",
    "\n",
    "for i in range(len(cities)):\n",
    "    print(cities[i],fundings[i])\n",
    "\n"
   ]
  },
  {
   "cell_type": "markdown",
   "id": "b1dc1ebe",
   "metadata": {},
   "source": [
    "# Question 2"
   ]
  },
  {
   "cell_type": "code",
   "execution_count": 94,
   "id": "8425cd91",
   "metadata": {},
   "outputs": [
    {
     "ename": "AttributeError",
     "evalue": "'str' object has no attribute 'append'",
     "output_type": "error",
     "traceback": [
      "\u001b[0;31m---------------------------------------------------------------------------\u001b[0m",
      "\u001b[0;31mAttributeError\u001b[0m                            Traceback (most recent call last)",
      "\u001b[0;32m/var/folders/lv/1ny14vh171v1q3g8t9s_bcnr0000gn/T/ipykernel_33458/3123629353.py\u001b[0m in \u001b[0;36m<module>\u001b[0;34m\u001b[0m\n\u001b[1;32m     23\u001b[0m         \u001b[0;32mif\u001b[0m \u001b[0minvestor\u001b[0m \u001b[0;34m==\u001b[0m \u001b[0;34m\"\"\u001b[0m\u001b[0;34m:\u001b[0m\u001b[0;34m\u001b[0m\u001b[0;34m\u001b[0m\u001b[0m\n\u001b[1;32m     24\u001b[0m             \u001b[0;32mcontinue\u001b[0m\u001b[0;34m\u001b[0m\u001b[0;34m\u001b[0m\u001b[0m\n\u001b[0;32m---> 25\u001b[0;31m         \u001b[0minvestors\u001b[0m\u001b[0;34m.\u001b[0m\u001b[0mappend\u001b[0m\u001b[0;34m(\u001b[0m\u001b[0mans\u001b[0m\u001b[0;34m)\u001b[0m \u001b[0;31m#appending the investors in investor list\u001b[0m\u001b[0;34m\u001b[0m\u001b[0;34m\u001b[0m\u001b[0m\n\u001b[0m\u001b[1;32m     26\u001b[0m \u001b[0;34m\u001b[0m\u001b[0m\n\u001b[1;32m     27\u001b[0m \u001b[0mtop_5_investors\u001b[0m \u001b[0;34m=\u001b[0m \u001b[0mpd\u001b[0m\u001b[0;34m.\u001b[0m\u001b[0mDataFrame\u001b[0m\u001b[0;34m(\u001b[0m\u001b[0minvestors\u001b[0m\u001b[0;34m)\u001b[0m\u001b[0;34m.\u001b[0m\u001b[0mvalue_counts\u001b[0m\u001b[0;34m(\u001b[0m\u001b[0;34m)\u001b[0m\u001b[0;34m[\u001b[0m\u001b[0;34m:\u001b[0m\u001b[0;36m5\u001b[0m\u001b[0;34m]\u001b[0m\u001b[0;34m\u001b[0m\u001b[0;34m\u001b[0m\u001b[0m\n",
      "\u001b[0;31mAttributeError\u001b[0m: 'str' object has no attribute 'append'"
     ]
    }
   ],
   "source": [
    "import pandas as pd\n",
    "import matplotlib.pyplot as plt\n",
    "\n",
    "df = pd.read_csv(\"Desktop/Datasets/startup_funding.csv\",encoding = 'utf-8')\n",
    "\n",
    "df.dropna(subset=['Investors Name'], inplace = True) \n",
    "\n",
    "df = df[df[\"Investors Name\"] != 'Undisclosed Investors']\n",
    "df = df[df[\"Investors Name\"] != 'Undisclosed investors']\n",
    "df = df[df[\"Investors Name\"] != 'undisclosed investors']\n",
    "df = df[df[\"Investors Name\"] != 'undisclosed investor']\n",
    "\n",
    "investor = []\n",
    "\n",
    "for i in data_frame[\"Investors Name\"]: #iterating in InvestorsName\n",
    "    array = i.split(\",\")\n",
    "    for j in array:\n",
    "        ans = j.strip()\n",
    "        if ans == \"\":\n",
    "            continue\n",
    "        investor.append(ans)\n",
    "        \n",
    "top_5_investors = pd.DataFrame(investor).value_counts()[:5]\n",
    "investors = top_5_investors.index\n",
    "count = top_5_investors.values\n",
    "\n",
    "for i in range(len(investors)):\n",
    "    plt.bar(investors[i],count[i])\n",
    "    \n",
    "plt.xlabel(\"Investor Name\")\n",
    "plt.ylabel(\"Count\")\n",
    "plt.title(\"Top 5 Investors on the basis of their Investments\") \n",
    "plt.xticks(rotation = 45)\n",
    "plt.show()\n",
    "    \n",
    "for i in range(len(investors)): \n",
    "    print(investors[i][0],count[i])    "
   ]
  },
  {
   "cell_type": "markdown",
   "id": "f133f31c",
   "metadata": {},
   "source": [
    "# Question 3 -- After re-analysing the dataset you found out that some investors have invested in the same startup at different number of funding rounds. So before finalising the previous list, you want to improvise it by finding the top 5 investors who have invested in different number of startups. This list will be more helpful than your previous list in finding the investment for your friend startup. Find the top 5 investors who have invested maximum number of times in different companies. That means, if one investor has invested multiple times in one startup, count one for that company. There are many errors in startup names. Ignore correcting all, just handle the important ones - Ola, Flipkart, Oyo and Paytm."
   ]
  },
  {
   "cell_type": "code",
   "execution_count": 95,
   "id": "edd1f608",
   "metadata": {},
   "outputs": [
    {
     "data": {
      "image/png": "[encoded data removed]",
      "text/plain": [
       "<Figure size 432x288 with 1 Axes>"
      ]
     },
     "metadata": {
      "needs_background": "light"
     },
     "output_type": "display_data"
    },
    {
     "name": "stdout",
     "output_type": "stream",
     "text": [
      "Accel Partners 59\n",
      "Sequoia Capital 53\n",
      "Kalaari Capital 47\n",
      "Blume Ventures 43\n",
      "Indian Angel Network 41\n"
     ]
    }
   ],
   "source": [
    "import pandas as pd\n",
    "import matplotlib.pyplot as plt\n",
    "df = pd.read_csv(\"Desktop/Datasets/startup_funding.csv\")\n",
    "\n",
    "df.dropna(subset = [\"Investors Name\"],inplace = True)\n",
    "df[\"Startup Name\"].dropna(inplace = True)\n",
    "\n",
    "df.drop(df.index[df['Investors Name'] == 'Undisclosed Investor'], inplace = True)\n",
    "df.drop(df.index[df['Investors Name'] == 'Undisclosed'], inplace = True)\n",
    "df.drop(df.index[df['Investors Name'] == 'Undisclosed Investors'], inplace = True)\n",
    "df.drop(df.index[df['Investors Name'] == 'Undisclosed investors'], inplace = True)\n",
    "\n",
    "df[\"Startup Name\"].replace(\"Olacabs\",\"Ola\",inplace = True)\n",
    "df[\"Startup Name\"].replace(\"Flipkart.com\",\"Flipkart\",inplace = True)\n",
    "df[\"Startup Name\"].replace(\"oyo\",\"Oyo\",inplace = True)\n",
    "df[\"Startup Name\"].replace(\"Oyo Rooms\",\"Oyo\",inplace = True)\n",
    "df[\"Startup Name\"].replace(\"Oyorooms\",\"Oyo\",inplace = True)\n",
    "df[\"Startup Name\"].replace(\"OyoRooms\",\"Oyo\",inplace = True)\n",
    "df[\"Startup Name\"].replace(\"OYO Rooms\",\"Oyo\",inplace = True)\n",
    "df[\"Startup Name\"].replace(\"Ola Cabs\",\"Ola\",inplace = True)\n",
    "df[\"Startup Name\"].replace(\"ola\",\"Ola\",inplace = True)\n",
    "df[\"Startup Name\"].replace(\"paytm\",\"Paytm\",inplace = True)\n",
    "df[\"Startup Name\"].replace(\"Paytm Marketplace\",\"Paytm\",inplace = True)\n",
    "\n",
    "\n",
    "top_investors = []\n",
    "pairs = set()\n",
    "\n",
    "for i in range(len(df)):\n",
    "    investors = df.iloc[i]['Investors Name']\n",
    "    if isinstance(investors, float):\n",
    "        continue\n",
    "    \n",
    "    investor_list = investors.split(',')\n",
    "    for investor in investor_list:\n",
    "        investor = investor.strip()\n",
    "        if investor == \"\":\n",
    "            continue\n",
    "            \n",
    "        pair = (investor, df.iloc[i][\"Startup Name\"])\n",
    "        if pair in pairs:\n",
    "            continue\n",
    "        else:\n",
    "            pairs.add(pair)\n",
    "            top_investors.append(investor)\n",
    "            \n",
    "\n",
    "top_investors = pd.Series(top_investors).value_counts()[:5]\n",
    "\n",
    "top5_investors = top_investors.index\n",
    "count = top_investors.values\n",
    "\n",
    "for i in range(len(top_5_investors)):\n",
    "    plt.bar(top5_investors[i],count[i])\n",
    "     \n",
    "    \n",
    "plt.xlabel(\"Top 5 Investors\")\n",
    "plt.ylabel(\"No. of Investments in different companies\")\n",
    "plt.title(\"Top 5 investors Invested maximum No. of times in differnt Companies\") \n",
    "plt.xticks(rotation = 45)\n",
    "plt.show()    \n",
    "\n",
    "for i in range(len(top_5_investors)): \n",
    "    print(top5_investors[i],count[i])"
   ]
  },
  {
   "cell_type": "markdown",
   "id": "55696c1f",
   "metadata": {},
   "source": [
    "# Question 4"
   ]
  },
  {
   "cell_type": "code",
   "execution_count": 90,
   "id": "6f40b98d",
   "metadata": {},
   "outputs": [
    {
     "name": "stdout",
     "output_type": "stream",
     "text": [
      "Indian Angel Network 33\n",
      "Rajan Anandan 24\n",
      "LetsVenture 16\n",
      "Anupam Mittal 16\n",
      "Kunal Shah 14\n"
     ]
    },
    {
     "data": {
      "image/png": "[encoded data removed]",
      "text/plain": [
       "<Figure size 432x288 with 1 Axes>"
      ]
     },
     "metadata": {
      "needs_background": "light"
     },
     "output_type": "display_data"
    }
   ],
   "source": [
    "import pandas as pd\n",
    "import numpy as np\n",
    "import matplotlib.pyplot as plt\n",
    "\n",
    "df = pd.read_csv(\"Desktop/Datasets/startup_funding.csv\")\n",
    "\n",
    "df[\"InvestmentnType\"].dropna(inplace = True)\n",
    "df[\"Investors Name\"].dropna(inplace = True)\n",
    "df[\"Startup Name\"].dropna(inplace = True)\n",
    "df.drop(df.index[df['Investors Name'] == 'Undisclosed Investor'], inplace = True)\n",
    "df.drop(df.index[df['Investors Name'] == 'Undisclosed'], inplace = True)\n",
    "df.drop(df.index[df['Investors Name'] == 'Undisclosed Investors'], inplace = True)\n",
    "df.drop(df.index[df['Investors Name'] == 'Undisclosed investors'], inplace = True)\n",
    "\n",
    "df[\"Startup Name\"].replace(\"Olacabs\",\"Ola\",inplace = True) \n",
    "df[\"Startup Name\"].replace(\"Flipkart.com\",\"Flipkart\",inplace = True)\n",
    "df[\"Startup Name\"].replace(\"oyo\",\"Oyo\",inplace = True)\n",
    "df[\"Startup Name\"].replace(\"Oyo Rooms\",\"Oyo\",inplace = True) \n",
    "df[\"Startup Name\"].replace(\"Oyorooms\",\"Oyo\",inplace = True) \n",
    "df[\"Startup Name\"].replace(\"OyoRooms\",\"Oyo\",inplace = True)\n",
    "df[\"Startup Name\"].replace(\"OYO Rooms\",\"Oyo\",inplace = True)\n",
    "df[\"Startup Name\"].replace(\"Ola Cabs\",\"Ola\",inplace = True)\n",
    "df[\"Startup Name\"].replace(\"ola\",\"Ola\",inplace = True)\n",
    "df[\"Startup Name\"].replace(\"paytm\",\"Paytm\",inplace = True)\n",
    "df[\"Startup Name\"].replace(\"Paytm Marketplace\",\"Paytm\",inplace = True)\n",
    "\n",
    "df[\"InvestmentnType\"].replace(\"PrivateEquity\",\"Private Equity\", inplace = True)\n",
    "df[\"InvestmentnType\"].replace(\"SeedFunding\",\"Seed Funding\", inplace = True)\n",
    "df[\"InvestmentnType\"].replace(\"crowd funding\",\"Crowd Funding\", inplace = True)\n",
    "\n",
    "df = df[(df[\"InvestmentnType\"] == \"Crowd Funding\") | (df[\"InvestmentnType\"] == \"Seed Funding\")]\n",
    "\n",
    "top_investors = []\n",
    "pairs = set()\n",
    "\n",
    "for i in range(len(df)):\n",
    "    investors = df.iloc[i]['Investors Name']\n",
    "    if isinstance(investors, float):\n",
    "        continue\n",
    "    \n",
    "    investor_list = investors.split(',')\n",
    "    for investor in investor_list:\n",
    "        investor = investor.strip()\n",
    "        if investor == \"\":\n",
    "            continue\n",
    "            \n",
    "        pair = (investor, df.iloc[i][\"Startup Name\"])\n",
    "        if pair in pairs:\n",
    "            continue\n",
    "        else:\n",
    "            pairs.add(pair)\n",
    "            top_investors.append(investor)\n",
    "            \n",
    "            \n",
    "top_investors = pd.Series(top_investors).value_counts()[:5]\n",
    "\n",
    "top_5_investors = top_investors.index\n",
    "count = top_investors.values\n",
    "\n",
    "for i in range(len(top_5_investors)): \n",
    "    plt.bar(top_5_investors[i],count[i])\n",
    "    plt.xlabel(\"Top 5 Investments\")\n",
    "    plt.ylabel(\"No of investments Done\")\n",
    "    plt.xticks(rotation = 45)\n",
    "    \n",
    "for i in range(5):\n",
    "    print(top_5_investors[i], count[i])    "
   ]
  },
  {
   "cell_type": "code",
   "execution_count": 52,
   "id": "d3f05e44",
   "metadata": {},
   "outputs": [],
   "source": [
    "import pandas as pd\n",
    "import matplotlib.pyplot as plt\n",
    "df = pd.read_csv(\"Desktop/Datasets/startup_funding.csv\")\n",
    "\n",
    "df[\"Startup Name\"].replace(\"Olacabs\",\"Ola\",inplace = True)\n",
    "df[\"Startup Name\"].replace(\"Flipkart.com\",\"Flipkart\",inplace = True)\n",
    "df[\"Startup Name\"].replace(\"oyo\",\"Oyo\",inplace = True)\n",
    "df[\"Startup Name\"].replace(\"Oyo Rooms\",\"Oyo\",inplace = True)\n",
    "df[\"Startup Name\"].replace(\"Oyorooms\",\"Oyo\",inplace = True)\n",
    "df[\"Startup Name\"].replace(\"OyoRooms\",\"Oyo\",inplace = True)\n",
    "df[\"Startup Name\"].replace(\"OYO Rooms\",\"Oyo\",inplace = True)\n",
    "df[\"Startup Name\"].replace(\"Ola Cabs\",\"Ola\",inplace = True)\n",
    "df[\"Startup Name\"].replace(\"ola\",\"Ola\",inplace = True)\n",
    "df[\"Startup Name\"].replace(\"paytm\",\"Paytm\",inplace = True)\n",
    "df[\"Startup Name\"].replace(\"Paytm Marketplace\",\"Paytm\",inplace = True)\n",
    "df.dropna(subset = [\"Investors Name\"],inplace = True)\n",
    "\n",
    "\n",
    "df.drop(df.index[df['Investors Name'] == 'Undisclosed Investor'], inplace = True)\n",
    "df.drop(df.index[df['Investors Name'] == 'Undisclosed'], inplace = True)\n",
    "\n",
    "\n",
    "\n",
    "\n",
    "\n"
   ]
  },
  {
   "cell_type": "code",
   "execution_count": 53,
   "id": "bcb55aeb",
   "metadata": {},
   "outputs": [
    {
     "data": {
      "text/plain": [
       "Int64Index([], dtype='int64')"
      ]
     },
     "execution_count": 53,
     "metadata": {},
     "output_type": "execute_result"
    }
   ],
   "source": [
    "df.index[df['Investors Name'] == 'Undisclosed Investor']"
   ]
  },
  {
   "cell_type": "code",
   "execution_count": 50,
   "id": "63da4c3d",
   "metadata": {},
   "outputs": [
    {
     "data": {
      "text/plain": [
       "Int64Index([69, 129, 1118, 1294, 1813, 2012, 2162, 2431, 2616, 2922, 2976], dtype='int64')"
      ]
     },
     "execution_count": 50,
     "metadata": {},
     "output_type": "execute_result"
    }
   ],
   "source": [
    "df.index[df['Investors Name'] == 'Undisclosed']"
   ]
  },
  {
   "cell_type": "markdown",
   "id": "a13ee2be",
   "metadata": {},
   "source": [
    "Question 5 -- Due to your immense help, your friend startup successfully got seed funding and it is on the operational mode. Now your friend wants to expand his startup and he is looking for new investors for his startup. Now you again come as a saviour to help your friend and want to create a list of probable new new investors. Before moving forward you remember your investor friend advice that finding the investors by analysing the investment type. Since your friend startup is not in early phase it is in growth stage so the best-suited investment type is Private Equity. Find the top 5 investors who have invested in a different number of startups and their investment type is Private Equity. Correct spelling of investment types are - \"Private Equity\", \"Seed Funding\", \"Debt Funding\", and \"Crowd Funding\". Keep an eye for any spelling mistake. You can find this by printing unique values from this column. There are many errors in startup names. Ignore correcting all, just handle the important ones - Ola, Flipkart, Oyo and Paytm."
   ]
  },
  {
   "cell_type": "code",
   "execution_count": 67,
   "id": "63896b8f",
   "metadata": {},
   "outputs": [],
   "source": [
    "import pandas as pd\n",
    "import numpy as np\n",
    "import matplotlib.pyplot as plt\n",
    "\n",
    "df = pd.read_csv(\"Desktop/Datasets/startup_funding.csv\")\n",
    "\n",
    "df[\"InvestmentnType\"].dropna(inplace = True)\n",
    "df[\"Investors Name\"].dropna(inplace = True)\n",
    "df[\"Startup Name\"].dropna(inplace = True)\n",
    "df.drop(df.index[df['Investors Name'] == 'Undisclosed Investor'], inplace = True)\n",
    "df.drop(df.index[df['Investors Name'] == 'Undisclosed'], inplace = True)\n",
    "df.drop(df.index[df['Investors Name'] == 'Undisclosed Investors'], inplace = True)\n",
    "df.drop(df.index[df['Investors Name'] == 'Undisclosed investors'], inplace = True)"
   ]
  },
  {
   "cell_type": "code",
   "execution_count": 68,
   "id": "537a3f41",
   "metadata": {},
   "outputs": [],
   "source": [
    "df[\"Startup Name\"].replace(\"Olacabs\",\"Ola\",inplace = True) \n",
    "df[\"Startup Name\"].replace(\"Flipkart.com\",\"Flipkart\",inplace = True)\n",
    "df[\"Startup Name\"].replace(\"oyo\",\"Oyo\",inplace = True)\n",
    "df[\"Startup Name\"].replace(\"Oyo Rooms\",\"Oyo\",inplace = True) \n",
    "df[\"Startup Name\"].replace(\"Oyorooms\",\"Oyo\",inplace = True) \n",
    "df[\"Startup Name\"].replace(\"OyoRooms\",\"Oyo\",inplace = True)\n",
    "df[\"Startup Name\"].replace(\"OYO Rooms\",\"Oyo\",inplace = True)\n",
    "df[\"Startup Name\"].replace(\"Ola Cabs\",\"Ola\",inplace = True)\n",
    "df[\"Startup Name\"].replace(\"ola\",\"Ola\",inplace = True)\n",
    "df[\"Startup Name\"].replace(\"paytm\",\"Paytm\",inplace = True)\n",
    "df[\"Startup Name\"].replace(\"Paytm Marketplace\",\"Paytm\",inplace = True)"
   ]
  },
  {
   "cell_type": "code",
   "execution_count": 69,
   "id": "5ff38360",
   "metadata": {},
   "outputs": [],
   "source": [
    "df[\"InvestmentnType\"].replace(\"PrivateEquity\",\"Private Equity\", inplace = True)"
   ]
  },
  {
   "cell_type": "code",
   "execution_count": 71,
   "id": "78a1e14b",
   "metadata": {},
   "outputs": [],
   "source": [
    "df = df[(df[\"InvestmentnType\"] == \"Private Equity\")]"
   ]
  },
  {
   "cell_type": "code",
   "execution_count": 72,
   "id": "caea9fdd",
   "metadata": {},
   "outputs": [],
   "source": [
    "top_investors = []\n",
    "pairs = set()\n",
    "\n",
    "for i in range(len(df)):\n",
    "    investors = df.iloc[i]['Investors Name']\n",
    "    if isinstance(investors, float):\n",
    "        continue\n",
    "    \n",
    "    investor_list = investors.split(',')\n",
    "    for investor in investor_list:\n",
    "        investor = investor.strip()\n",
    "        if investor == \"\":\n",
    "            continue\n",
    "            \n",
    "        pair = (investor, df.iloc[i][\"Startup Name\"])\n",
    "        if pair in pairs:\n",
    "            continue\n",
    "        else:\n",
    "            pairs.add(pair)\n",
    "            top_investors.append(investor)"
   ]
  },
  {
   "cell_type": "code",
   "execution_count": 73,
   "id": "51c7ad14",
   "metadata": {},
   "outputs": [],
   "source": [
    "top_investors = pd.Series(top_investors).value_counts()[:5]\n",
    "\n",
    "top_5_investors = top_investors.index\n",
    "count = top_investors.values"
   ]
  },
  {
   "cell_type": "code",
   "execution_count": 74,
   "id": "f8807683",
   "metadata": {},
   "outputs": [
    {
     "data": {
      "image/png": "[encoded data removed]",
      "text/plain": [
       "<Figure size 432x288 with 1 Axes>"
      ]
     },
     "metadata": {
      "needs_background": "light"
     },
     "output_type": "display_data"
    }
   ],
   "source": [
    "for i in range(len(top_5_investors)): \n",
    "    plt.bar(top_5_investors[i],count[i])\n",
    "    plt.xlabel(\"Top 5 Investments\")\n",
    "    plt.ylabel(\"No of investments Done\")\n",
    "    plt.xticks(rotation = 45)"
   ]
  },
  {
   "cell_type": "code",
   "execution_count": 91,
   "id": "e20b44d2",
   "metadata": {},
   "outputs": [
    {
     "name": "stdout",
     "output_type": "stream",
     "text": [
      "Indian Angel Network --> 33\n",
      "Rajan Anandan --> 24\n",
      "LetsVenture --> 16\n",
      "Anupam Mittal --> 16\n",
      "Kunal Shah --> 14\n"
     ]
    }
   ],
   "source": [
    "for i in range(5):\n",
    "    print(top_5_investors[i],\"-->\",count[i])"
   ]
  },
  {
   "cell_type": "markdown",
   "id": "dc96a8c7",
   "metadata": {},
   "source": [
    "Question 3 ---> "
   ]
  },
  {
   "cell_type": "code",
   "execution_count": 77,
   "id": "a440aece",
   "metadata": {},
   "outputs": [
    {
     "data": {
      "image/png": "[encoded data removed]",
      "text/plain": [
       "<Figure size 432x288 with 1 Axes>"
      ]
     },
     "metadata": {
      "needs_background": "light"
     },
     "output_type": "display_data"
    },
    {
     "data": {
      "image/png": "[encoded data removed]",
      "text/plain": [
       "<Figure size 432x288 with 1 Axes>"
      ]
     },
     "metadata": {
      "needs_background": "light"
     },
     "output_type": "display_data"
    },
    {
     "name": "stdout",
     "output_type": "stream",
     "text": [
      "Accel Partners  -->  59\n",
      "Sequoia Capital  -->  55\n",
      "Kalaari Capital  -->  47\n",
      "Blume Ventures  -->  43\n",
      "Indian Angel Network  -->  41\n"
     ]
    }
   ],
   "source": [
    "import pandas as pd\n",
    "import numpy as np\n",
    "import matplotlib.pyplot as plt\n",
    "\n",
    "data2 = pd.read_csv(\"Desktop/Datasets/startup_funding.csv\")\n",
    "\n",
    "\n",
    "\n",
    "\n",
    "data2.isnull().sum()\n",
    "data2.drop(data2.index[data2['Investors Name'].isnull()], inplace = True)\n",
    "data2.reset_index(drop = True, inplace = True)\n",
    "features = ['Startup Name', 'Investors Name']\n",
    "df3 = data2.loc[:, features]\n",
    "df3.head()\n",
    "df3['Startup Name'].replace('Ola Cabs', 'Ola', inplace = True)\n",
    "df3['Startup Name'].replace('Olacabs', 'Ola', inplace = True)\n",
    "df3['Startup Name'].replace('Flipkart.com', 'Flipkart', inplace = True)\n",
    "df3['Startup Name'].replace('Paytm Marketplace', 'Paytm', inplace = True)\n",
    "df3['Startup Name'].replace('Oyo Rooms', 'Oyo', inplace = True)\n",
    "df3['Startup Name'].replace('OyoRooms', 'Oyo', inplace = True)\n",
    "df3['Startup Name'].replace('OYOfit', 'Oyo', inplace = True)\n",
    "df3['Startup Name'].replace('orooms', 'Oyo', inplace = True)\n",
    "\n",
    "investor = np.array(df3['Investors Name'], dtype = 'str')\n",
    "startup = np.array(df3['Startup Name'], dtype = 'str')\n",
    "\n",
    "# I m creating a dict, which key is the name of investor and value is the those different startup name\n",
    "# which got funding by investor\n",
    "Dict = {}\n",
    "for i in range(len(investor)):\n",
    "    invstr = investor[i].strip()\n",
    "    if ',' in invstr:\n",
    "        invstr = invstr.strip().split(',')\n",
    "        for name in invstr:\n",
    "            if name.strip() in Dict:\n",
    "                Dict[name.strip()].add(startup[i].strip())\n",
    "            else:\n",
    "                s = set()\n",
    "                Dict[name.strip()] = s\n",
    "                Dict[name.strip()].add(startup[i].strip())\n",
    "    else:\n",
    "        name = investor[i].strip()\n",
    "        if name in Dict:\n",
    "            Dict[name].add(startup[i].strip())\n",
    "        else:\n",
    "            s = set()\n",
    "            Dict[name] = s\n",
    "            Dict[name].add(startup[i].strip())\n",
    "\n",
    "investors = {}\n",
    "for invstr in Dict:\n",
    "    key = invstr\n",
    "    if key == \"\":\n",
    "        continue\n",
    "    investors[key] = len(Dict[key])\n",
    "\n",
    "investors = dict(sorted(investors.items(), key = lambda x: x[1], reverse = True))\n",
    "\n",
    "investor_name = []\n",
    "startup_no = []\n",
    "count = 0\n",
    "for key in investors:\n",
    "    if count == 5:\n",
    "        break\n",
    "    else:\n",
    "        count += 1\n",
    "        investor_name.append(key)\n",
    "        startup_no.append(investors[key])\n",
    "\n",
    "plt.bar(investor_name, startup_no, label = 'Top 5 Investors')\n",
    "plt.legend()\n",
    "plt.xticks(rotation = 40)\n",
    "plt.yticks(startup_no, rotation = 40)\n",
    "plt.grid()\n",
    "plt.show()\n",
    "\n",
    "plt.plot(investor_name, startup_no,'o-', label = 'Top 5 Investors')\n",
    "plt.legend()\n",
    "plt.xticks(rotation = 40)\n",
    "plt.yticks(startup_no, rotation = 40)\n",
    "plt.grid()\n",
    "plt.show()\n",
    "\n",
    "for i in range(len(investor_name)):\n",
    "    print(investor_name[i], ' --> ', startup_no[i])"
   ]
  }
 ],
 "metadata": {
  "kernelspec": {
   "display_name": "Python 3 (ipykernel)",
   "language": "python",
   "name": "python3"
  },
  "language_info": {
   "codemirror_mode": {
    "name": "ipython",
    "version": 3
   },
   "file_extension": ".py",
   "mimetype": "text/x-python",
   "name": "python",
   "nbconvert_exporter": "python",
   "pygments_lexer": "ipython3",
   "version": "3.8.2"
  }
 },
 "nbformat": 4,
 "nbformat_minor": 5
}
